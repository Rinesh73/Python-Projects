{
 "cells": [
  {
   "cell_type": "markdown",
   "id": "c3974450",
   "metadata": {},
   "source": [
    "# Rock, paper and scissors game in Python\n",
    "\n",
    "In order to create a rock paper scissor game, we should be fully familiar with the rules of the game. The rules state that rock smashes scissors, scissors cuts paper, and paper covers rock. So, rock wins over scissors, scissors win over paper and paper wins over rock."
   ]
  },
  {
   "cell_type": "code",
   "execution_count": 26,
   "id": "91bff481",
   "metadata": {},
   "outputs": [
    {
     "name": "stdout",
     "output_type": "stream",
     "text": [
      "What do you choose? Type 0 for Rock, 1 for Paper or 2 for Scissors.\n",
      "1\n",
      "User's choose: paper\n",
      "\n",
      "    _______\n",
      "---'   ____)____\n",
      "          ______)\n",
      "          _______)\n",
      "         _______)\n",
      "---.__________)\n",
      "\n",
      "Computer chose: rock\n",
      "\n",
      "    _______\n",
      "---'   ____)\n",
      "      (_____)\n",
      "      (_____)\n",
      "      (____)\n",
      "---.__(___)\n",
      "\n",
      "You win!\n"
     ]
    }
   ],
   "source": [
    "import random\n",
    "rock = '''\n",
    "    _______\n",
    "---'   ____)\n",
    "      (_____)\n",
    "      (_____)\n",
    "      (____)\n",
    "---.__(___)\n",
    "'''\n",
    "\n",
    "paper = '''\n",
    "    _______\n",
    "---'   ____)____\n",
    "          ______)\n",
    "          _______)\n",
    "         _______)\n",
    "---.__________)\n",
    "'''\n",
    "\n",
    "scissors = '''\n",
    "    _______\n",
    "---'   ____)____\n",
    "          ______)\n",
    "       __________)\n",
    "      (____)\n",
    "---.__(___)\n",
    "'''\n",
    "game_image=[rock,paper,scissors]\n",
    "rps=['rock','paper','scissors']\n",
    "\n",
    "user_choice=int(input('What do you choose? Type 0 for Rock, 1 for Paper or 2 for Scissors.\\n'))\n",
    "if user_choice>=3 or user_choice<0:\n",
    "    print('you choose Invalid number, you lose')\n",
    "else:\n",
    "    print(\"User's choose:\",rps[user_choice])\n",
    "    print(game_image[user_choice])\n",
    "    computer_choice=random.randint(0,2)\n",
    "    print('Computer chose:',rps[computer_choice])\n",
    "    print(game_image[computer_choice])\n",
    "\n",
    "\n",
    "    if user_choice==0 and computer_choice==2:\n",
    "        print(\"You win!\")\n",
    "    elif user_choice==2 and computer_choice==0:\n",
    "        print(\"You lose\")\n",
    "    elif computer_choice>user_choice:\n",
    "        print(\"You lose\")\n",
    "    elif user_choice>computer_choice:\n",
    "        print(\"You win!\")\n",
    "    elif computer_choice==user_choice:\n",
    "        print(\"It's a draw\")\n"
   ]
  },
  {
   "cell_type": "code",
   "execution_count": null,
   "id": "43785892",
   "metadata": {},
   "outputs": [],
   "source": []
  }
 ],
 "metadata": {
  "kernelspec": {
   "display_name": "Python 3 (ipykernel)",
   "language": "python",
   "name": "python3"
  },
  "language_info": {
   "codemirror_mode": {
    "name": "ipython",
    "version": 3
   },
   "file_extension": ".py",
   "mimetype": "text/x-python",
   "name": "python",
   "nbconvert_exporter": "python",
   "pygments_lexer": "ipython3",
   "version": "3.9.13"
  }
 },
 "nbformat": 4,
 "nbformat_minor": 5
}
