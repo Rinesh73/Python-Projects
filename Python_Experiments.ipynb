{
 "cells": [
  {
   "cell_type": "code",
   "execution_count": 10,
   "id": "6a584c9e",
   "metadata": {},
   "outputs": [],
   "source": [
    "import pandas as pd\n",
    "import numpy as np\n",
    "import seaborn as sns\n",
    "from itertools import zip_longest\n",
    "import glob\n",
    "from openpyxl.utils.dataframe import dataframe_to_rows"
   ]
  },
  {
   "cell_type": "code",
   "execution_count": null,
   "id": "f50d7d19",
   "metadata": {},
   "outputs": [],
   "source": [
    "# zip vs zip_longest"
   ]
  },
  {
   "cell_type": "code",
   "execution_count": 4,
   "id": "dfc854ad",
   "metadata": {},
   "outputs": [],
   "source": [
    "a=['A','B','C','D']\n",
    "b=[1,2,3]"
   ]
  },
  {
   "cell_type": "code",
   "execution_count": 6,
   "id": "86d8a945",
   "metadata": {},
   "outputs": [
    {
     "data": {
      "text/plain": [
       "[('A', 1), ('B', 2), ('C', 3)]"
      ]
     },
     "execution_count": 6,
     "metadata": {},
     "output_type": "execute_result"
    }
   ],
   "source": [
    "list(zip(a,b))"
   ]
  },
  {
   "cell_type": "code",
   "execution_count": 7,
   "id": "91fb63a8",
   "metadata": {},
   "outputs": [
    {
     "data": {
      "text/plain": [
       "[('A', 1), ('B', 2), ('C', 3), ('D', None)]"
      ]
     },
     "execution_count": 7,
     "metadata": {},
     "output_type": "execute_result"
    }
   ],
   "source": [
    "list(zip_longest(a,b))"
   ]
  },
  {
   "cell_type": "code",
   "execution_count": 9,
   "id": "7ec19c65",
   "metadata": {},
   "outputs": [
    {
     "data": {
      "text/plain": [
       "[('A', 1), ('B', 2), ('C', 3), ('D', 9999)]"
      ]
     },
     "execution_count": 9,
     "metadata": {},
     "output_type": "execute_result"
    }
   ],
   "source": [
    "list(zip_longest(a,b,fillvalue=9999))"
   ]
  },
  {
   "cell_type": "code",
   "execution_count": null,
   "id": "1fc36a34",
   "metadata": {},
   "outputs": [],
   "source": [
    "# glob"
   ]
  },
  {
   "cell_type": "code",
   "execution_count": 7,
   "id": "6a74a065",
   "metadata": {},
   "outputs": [
    {
     "data": {
      "application/javascript": [
       "\n",
       "        if (window._pyforest_update_imports_cell) { window._pyforest_update_imports_cell('import pandas as pd\\nimport glob'); }\n",
       "    "
      ],
      "text/plain": [
       "<IPython.core.display.Javascript object>"
      ]
     },
     "metadata": {},
     "output_type": "display_data"
    },
    {
     "data": {
      "text/plain": [
       "'tip_November_2024.xlsx'"
      ]
     },
     "execution_count": 7,
     "metadata": {},
     "output_type": "execute_result"
    }
   ],
   "source": [
    "path=glob.glob(f'tip*{2024}.xlsx')[0]\n",
    "path"
   ]
  },
  {
   "cell_type": "code",
   "execution_count": 8,
   "id": "cc822b3e",
   "metadata": {},
   "outputs": [
    {
     "data": {
      "application/javascript": [
       "\n",
       "        if (window._pyforest_update_imports_cell) { window._pyforest_update_imports_cell('import pandas as pd\\nimport glob'); }\n",
       "    "
      ],
      "text/plain": [
       "<IPython.core.display.Javascript object>"
      ]
     },
     "metadata": {},
     "output_type": "display_data"
    },
    {
     "data": {
      "text/html": [
       "<div>\n",
       "<style scoped>\n",
       "    .dataframe tbody tr th:only-of-type {\n",
       "        vertical-align: middle;\n",
       "    }\n",
       "\n",
       "    .dataframe tbody tr th {\n",
       "        vertical-align: top;\n",
       "    }\n",
       "\n",
       "    .dataframe thead th {\n",
       "        text-align: right;\n",
       "    }\n",
       "</style>\n",
       "<table border=\"1\" class=\"dataframe\">\n",
       "  <thead>\n",
       "    <tr style=\"text-align: right;\">\n",
       "      <th></th>\n",
       "      <th>Unnamed: 0</th>\n",
       "      <th>total_bill</th>\n",
       "      <th>tip</th>\n",
       "      <th>sex</th>\n",
       "      <th>smoker</th>\n",
       "      <th>day</th>\n",
       "      <th>time</th>\n",
       "      <th>size</th>\n",
       "    </tr>\n",
       "  </thead>\n",
       "  <tbody>\n",
       "    <tr>\n",
       "      <th>0</th>\n",
       "      <td>0</td>\n",
       "      <td>16.99</td>\n",
       "      <td>1.01</td>\n",
       "      <td>Female</td>\n",
       "      <td>No</td>\n",
       "      <td>Sun</td>\n",
       "      <td>Dinner</td>\n",
       "      <td>2</td>\n",
       "    </tr>\n",
       "    <tr>\n",
       "      <th>1</th>\n",
       "      <td>1</td>\n",
       "      <td>10.34</td>\n",
       "      <td>1.66</td>\n",
       "      <td>Male</td>\n",
       "      <td>No</td>\n",
       "      <td>Sun</td>\n",
       "      <td>Dinner</td>\n",
       "      <td>3</td>\n",
       "    </tr>\n",
       "    <tr>\n",
       "      <th>2</th>\n",
       "      <td>2</td>\n",
       "      <td>21.01</td>\n",
       "      <td>3.50</td>\n",
       "      <td>Male</td>\n",
       "      <td>No</td>\n",
       "      <td>Sun</td>\n",
       "      <td>Dinner</td>\n",
       "      <td>3</td>\n",
       "    </tr>\n",
       "    <tr>\n",
       "      <th>3</th>\n",
       "      <td>3</td>\n",
       "      <td>23.68</td>\n",
       "      <td>3.31</td>\n",
       "      <td>Male</td>\n",
       "      <td>No</td>\n",
       "      <td>Sun</td>\n",
       "      <td>Dinner</td>\n",
       "      <td>2</td>\n",
       "    </tr>\n",
       "    <tr>\n",
       "      <th>4</th>\n",
       "      <td>4</td>\n",
       "      <td>24.59</td>\n",
       "      <td>3.61</td>\n",
       "      <td>Female</td>\n",
       "      <td>No</td>\n",
       "      <td>Sun</td>\n",
       "      <td>Dinner</td>\n",
       "      <td>4</td>\n",
       "    </tr>\n",
       "  </tbody>\n",
       "</table>\n",
       "</div>"
      ],
      "text/plain": [
       "   Unnamed: 0  total_bill   tip     sex smoker  day    time  size\n",
       "0           0       16.99  1.01  Female     No  Sun  Dinner     2\n",
       "1           1       10.34  1.66    Male     No  Sun  Dinner     3\n",
       "2           2       21.01  3.50    Male     No  Sun  Dinner     3\n",
       "3           3       23.68  3.31    Male     No  Sun  Dinner     2\n",
       "4           4       24.59  3.61  Female     No  Sun  Dinner     4"
      ]
     },
     "execution_count": 8,
     "metadata": {},
     "output_type": "execute_result"
    }
   ],
   "source": [
    "tip=pd.read_excel(path)\n",
    "tip.head()"
   ]
  },
  {
   "cell_type": "code",
   "execution_count": 24,
   "id": "dcdd1c99",
   "metadata": {},
   "outputs": [
    {
     "data": {
      "text/plain": [
       "'C:\\\\Users\\\\Rinesh\\\\Documents\\\\ITR 2023_2024\\\\taxpnl-MB2664-2023_2024-Q1-Q4.xlsx'"
      ]
     },
     "execution_count": 24,
     "metadata": {},
     "output_type": "execute_result"
    }
   ],
   "source": [
    "yr=2023\n",
    "fr\"C:\\Users\\Rinesh\\Documents\\ITR 2023_2024\\taxpnl-MB2664-{yr}_2024-Q1-Q4.xlsx\""
   ]
  },
  {
   "cell_type": "code",
   "execution_count": null,
   "id": "fb420c8d",
   "metadata": {},
   "outputs": [],
   "source": [
    "# Pivot table"
   ]
  },
  {
   "cell_type": "code",
   "execution_count": 34,
   "id": "953e4465",
   "metadata": {},
   "outputs": [
    {
     "data": {
      "text/html": [
       "<div>\n",
       "<style scoped>\n",
       "    .dataframe tbody tr th:only-of-type {\n",
       "        vertical-align: middle;\n",
       "    }\n",
       "\n",
       "    .dataframe tbody tr th {\n",
       "        vertical-align: top;\n",
       "    }\n",
       "\n",
       "    .dataframe thead th {\n",
       "        text-align: right;\n",
       "    }\n",
       "</style>\n",
       "<table border=\"1\" class=\"dataframe\">\n",
       "  <thead>\n",
       "    <tr style=\"text-align: right;\">\n",
       "      <th>size</th>\n",
       "      <th>1</th>\n",
       "      <th>2</th>\n",
       "      <th>3</th>\n",
       "      <th>4</th>\n",
       "      <th>5</th>\n",
       "      <th>6</th>\n",
       "      <th>2024_total</th>\n",
       "    </tr>\n",
       "    <tr>\n",
       "      <th>sex</th>\n",
       "      <th></th>\n",
       "      <th></th>\n",
       "      <th></th>\n",
       "      <th></th>\n",
       "      <th></th>\n",
       "      <th></th>\n",
       "      <th></th>\n",
       "    </tr>\n",
       "  </thead>\n",
       "  <tbody>\n",
       "    <tr>\n",
       "      <th>Female</th>\n",
       "      <td>20.39</td>\n",
       "      <td>889.69</td>\n",
       "      <td>301.66</td>\n",
       "      <td>272.51</td>\n",
       "      <td>29.85</td>\n",
       "      <td>56.85</td>\n",
       "      <td>1570.95</td>\n",
       "    </tr>\n",
       "    <tr>\n",
       "      <th>Male</th>\n",
       "      <td>8.58</td>\n",
       "      <td>1676.20</td>\n",
       "      <td>582.89</td>\n",
       "      <td>786.19</td>\n",
       "      <td>120.49</td>\n",
       "      <td>82.47</td>\n",
       "      <td>3256.82</td>\n",
       "    </tr>\n",
       "    <tr>\n",
       "      <th>2024_total</th>\n",
       "      <td>28.97</td>\n",
       "      <td>2565.89</td>\n",
       "      <td>884.55</td>\n",
       "      <td>1058.70</td>\n",
       "      <td>150.34</td>\n",
       "      <td>139.32</td>\n",
       "      <td>4827.77</td>\n",
       "    </tr>\n",
       "  </tbody>\n",
       "</table>\n",
       "</div>"
      ],
      "text/plain": [
       "size            1        2       3        4       5       6  2024_total\n",
       "sex                                                                    \n",
       "Female      20.39   889.69  301.66   272.51   29.85   56.85     1570.95\n",
       "Male         8.58  1676.20  582.89   786.19  120.49   82.47     3256.82\n",
       "2024_total  28.97  2565.89  884.55  1058.70  150.34  139.32     4827.77"
      ]
     },
     "execution_count": 34,
     "metadata": {},
     "output_type": "execute_result"
    }
   ],
   "source": [
    "year=2024\n",
    "pd.pivot_table(index='sex',columns='size',values='total_bill',aggfunc='sum',data=tip,margins=True,margins_name=f'{year}_total')"
   ]
  },
  {
   "cell_type": "code",
   "execution_count": null,
   "id": "44d58b24",
   "metadata": {},
   "outputs": [],
   "source": [
    "# Modulus"
   ]
  },
  {
   "cell_type": "code",
   "execution_count": 35,
   "id": "00441c3c",
   "metadata": {},
   "outputs": [
    {
     "data": {
      "text/plain": [
       "10"
      ]
     },
     "execution_count": 35,
     "metadata": {},
     "output_type": "execute_result"
    }
   ],
   "source": [
    "-2%12"
   ]
  },
  {
   "cell_type": "code",
   "execution_count": 36,
   "id": "f4c71d8a",
   "metadata": {},
   "outputs": [
    {
     "data": {
      "text/plain": [
       "2"
      ]
     },
     "execution_count": 36,
     "metadata": {},
     "output_type": "execute_result"
    }
   ],
   "source": [
    "-5%7"
   ]
  },
  {
   "cell_type": "code",
   "execution_count": null,
   "id": "8ba15f54",
   "metadata": {},
   "outputs": [],
   "source": [
    "# Filter"
   ]
  },
  {
   "cell_type": "code",
   "execution_count": 38,
   "id": "de47a208",
   "metadata": {},
   "outputs": [],
   "source": [
    "import calendar"
   ]
  },
  {
   "cell_type": "code",
   "execution_count": 39,
   "id": "1ce3e739",
   "metadata": {},
   "outputs": [
    {
     "data": {
      "text/plain": [
       "['Jan',\n",
       " 'Feb',\n",
       " 'Mar',\n",
       " 'Apr',\n",
       " 'May',\n",
       " 'Jun',\n",
       " 'Jul',\n",
       " 'Aug',\n",
       " 'Sep',\n",
       " 'Oct',\n",
       " 'Nov',\n",
       " 'Dec']"
      ]
     },
     "execution_count": 39,
     "metadata": {},
     "output_type": "execute_result"
    }
   ],
   "source": [
    "list(filter(None,calendar.month_abbr))"
   ]
  },
  {
   "cell_type": "code",
   "execution_count": 41,
   "id": "c13c88c6",
   "metadata": {},
   "outputs": [
    {
     "data": {
      "text/plain": [
       "[1, 4, 6, 7, nan]"
      ]
     },
     "execution_count": 41,
     "metadata": {},
     "output_type": "execute_result"
    }
   ],
   "source": [
    "l1=[1,4,6,7,np.nan]\n",
    "l1"
   ]
  },
  {
   "cell_type": "code",
   "execution_count": 44,
   "id": "439b0e18",
   "metadata": {},
   "outputs": [
    {
     "data": {
      "text/plain": [
       "[1, 4, 6, 7]"
      ]
     },
     "execution_count": 44,
     "metadata": {},
     "output_type": "execute_result"
    }
   ],
   "source": [
    "list(filter(lambda x: x is not np.nan,l1))"
   ]
  },
  {
   "cell_type": "code",
   "execution_count": null,
   "id": "428c7909",
   "metadata": {},
   "outputs": [],
   "source": [
    "# Map"
   ]
  },
  {
   "cell_type": "code",
   "execution_count": 45,
   "id": "999f93ac",
   "metadata": {},
   "outputs": [
    {
     "data": {
      "text/plain": [
       "Unnamed: 0      int64\n",
       "total_bill    float64\n",
       "tip           float64\n",
       "sex            object\n",
       "smoker         object\n",
       "day            object\n",
       "time           object\n",
       "size            int64\n",
       "dtype: object"
      ]
     },
     "execution_count": 45,
     "metadata": {},
     "output_type": "execute_result"
    }
   ],
   "source": [
    "tip.dtypes"
   ]
  },
  {
   "cell_type": "code",
   "execution_count": 48,
   "id": "ab873c38",
   "metadata": {},
   "outputs": [],
   "source": [
    "tip['size']=tip['size'].map(lambda x : str(x))"
   ]
  },
  {
   "cell_type": "code",
   "execution_count": 49,
   "id": "2c6540b1",
   "metadata": {},
   "outputs": [
    {
     "data": {
      "text/plain": [
       "Unnamed: 0      int64\n",
       "total_bill    float64\n",
       "tip           float64\n",
       "sex            object\n",
       "smoker         object\n",
       "day            object\n",
       "time           object\n",
       "size           object\n",
       "dtype: object"
      ]
     },
     "execution_count": 49,
     "metadata": {},
     "output_type": "execute_result"
    }
   ],
   "source": [
    "tip.dtypes"
   ]
  },
  {
   "cell_type": "code",
   "execution_count": null,
   "id": "b3fe8987",
   "metadata": {},
   "outputs": [],
   "source": [
    "# str concat"
   ]
  },
  {
   "cell_type": "code",
   "execution_count": 51,
   "id": "53caacc4",
   "metadata": {},
   "outputs": [
    {
     "data": {
      "text/plain": [
       "0       Female_No\n",
       "1         Male_No\n",
       "2         Male_No\n",
       "3         Male_No\n",
       "4       Female_No\n",
       "          ...    \n",
       "239       Male_No\n",
       "240    Female_Yes\n",
       "241      Male_Yes\n",
       "242       Male_No\n",
       "243     Female_No\n",
       "Name: sex, Length: 244, dtype: object"
      ]
     },
     "execution_count": 51,
     "metadata": {},
     "output_type": "execute_result"
    }
   ],
   "source": [
    "tip['sex'].str.cat(tip['smoker'],sep='_')"
   ]
  },
  {
   "cell_type": "code",
   "execution_count": null,
   "id": "1c06267a",
   "metadata": {},
   "outputs": [],
   "source": [
    "# Join"
   ]
  },
  {
   "cell_type": "code",
   "execution_count": 60,
   "id": "6872d5ed",
   "metadata": {},
   "outputs": [],
   "source": [
    "df1=pd.DataFrame({'A':[1,3,5,8,9],'B':[23,67,98,78,90]})\n",
    "df2=pd.DataFrame({'A':[1,2,5,8,7],'C':[238,800,989,780,900]})"
   ]
  },
  {
   "cell_type": "code",
   "execution_count": 61,
   "id": "81fd79f2",
   "metadata": {},
   "outputs": [
    {
     "data": {
      "text/html": [
       "<div>\n",
       "<style scoped>\n",
       "    .dataframe tbody tr th:only-of-type {\n",
       "        vertical-align: middle;\n",
       "    }\n",
       "\n",
       "    .dataframe tbody tr th {\n",
       "        vertical-align: top;\n",
       "    }\n",
       "\n",
       "    .dataframe thead th {\n",
       "        text-align: right;\n",
       "    }\n",
       "</style>\n",
       "<table border=\"1\" class=\"dataframe\">\n",
       "  <thead>\n",
       "    <tr style=\"text-align: right;\">\n",
       "      <th></th>\n",
       "      <th>A</th>\n",
       "      <th>B</th>\n",
       "      <th>C</th>\n",
       "    </tr>\n",
       "  </thead>\n",
       "  <tbody>\n",
       "    <tr>\n",
       "      <th>0</th>\n",
       "      <td>1</td>\n",
       "      <td>23</td>\n",
       "      <td>238</td>\n",
       "    </tr>\n",
       "    <tr>\n",
       "      <th>1</th>\n",
       "      <td>5</td>\n",
       "      <td>98</td>\n",
       "      <td>989</td>\n",
       "    </tr>\n",
       "    <tr>\n",
       "      <th>2</th>\n",
       "      <td>8</td>\n",
       "      <td>78</td>\n",
       "      <td>780</td>\n",
       "    </tr>\n",
       "  </tbody>\n",
       "</table>\n",
       "</div>"
      ],
      "text/plain": [
       "   A   B    C\n",
       "0  1  23  238\n",
       "1  5  98  989\n",
       "2  8  78  780"
      ]
     },
     "execution_count": 61,
     "metadata": {},
     "output_type": "execute_result"
    }
   ],
   "source": [
    "pd.merge(df1,df2,on='A')"
   ]
  },
  {
   "cell_type": "code",
   "execution_count": 62,
   "id": "b897eb10",
   "metadata": {},
   "outputs": [
    {
     "data": {
      "text/html": [
       "<div>\n",
       "<style scoped>\n",
       "    .dataframe tbody tr th:only-of-type {\n",
       "        vertical-align: middle;\n",
       "    }\n",
       "\n",
       "    .dataframe tbody tr th {\n",
       "        vertical-align: top;\n",
       "    }\n",
       "\n",
       "    .dataframe thead th {\n",
       "        text-align: right;\n",
       "    }\n",
       "</style>\n",
       "<table border=\"1\" class=\"dataframe\">\n",
       "  <thead>\n",
       "    <tr style=\"text-align: right;\">\n",
       "      <th></th>\n",
       "      <th>C</th>\n",
       "    </tr>\n",
       "    <tr>\n",
       "      <th>A</th>\n",
       "      <th></th>\n",
       "    </tr>\n",
       "  </thead>\n",
       "  <tbody>\n",
       "    <tr>\n",
       "      <th>1</th>\n",
       "      <td>238</td>\n",
       "    </tr>\n",
       "    <tr>\n",
       "      <th>2</th>\n",
       "      <td>800</td>\n",
       "    </tr>\n",
       "    <tr>\n",
       "      <th>5</th>\n",
       "      <td>989</td>\n",
       "    </tr>\n",
       "    <tr>\n",
       "      <th>8</th>\n",
       "      <td>780</td>\n",
       "    </tr>\n",
       "    <tr>\n",
       "      <th>7</th>\n",
       "      <td>900</td>\n",
       "    </tr>\n",
       "  </tbody>\n",
       "</table>\n",
       "</div>"
      ],
      "text/plain": [
       "     C\n",
       "A     \n",
       "1  238\n",
       "2  800\n",
       "5  989\n",
       "8  780\n",
       "7  900"
      ]
     },
     "execution_count": 62,
     "metadata": {},
     "output_type": "execute_result"
    }
   ],
   "source": [
    "df2=df2.set_index('A')\n",
    "df2"
   ]
  },
  {
   "cell_type": "code",
   "execution_count": 65,
   "id": "c8bb4cf7",
   "metadata": {},
   "outputs": [
    {
     "data": {
      "text/html": [
       "<div>\n",
       "<style scoped>\n",
       "    .dataframe tbody tr th:only-of-type {\n",
       "        vertical-align: middle;\n",
       "    }\n",
       "\n",
       "    .dataframe tbody tr th {\n",
       "        vertical-align: top;\n",
       "    }\n",
       "\n",
       "    .dataframe thead th {\n",
       "        text-align: right;\n",
       "    }\n",
       "</style>\n",
       "<table border=\"1\" class=\"dataframe\">\n",
       "  <thead>\n",
       "    <tr style=\"text-align: right;\">\n",
       "      <th></th>\n",
       "      <th>A</th>\n",
       "      <th>B</th>\n",
       "      <th>C</th>\n",
       "    </tr>\n",
       "  </thead>\n",
       "  <tbody>\n",
       "    <tr>\n",
       "      <th>0</th>\n",
       "      <td>1</td>\n",
       "      <td>23</td>\n",
       "      <td>238</td>\n",
       "    </tr>\n",
       "    <tr>\n",
       "      <th>1</th>\n",
       "      <td>5</td>\n",
       "      <td>98</td>\n",
       "      <td>989</td>\n",
       "    </tr>\n",
       "    <tr>\n",
       "      <th>2</th>\n",
       "      <td>8</td>\n",
       "      <td>78</td>\n",
       "      <td>780</td>\n",
       "    </tr>\n",
       "  </tbody>\n",
       "</table>\n",
       "</div>"
      ],
      "text/plain": [
       "   A   B    C\n",
       "0  1  23  238\n",
       "1  5  98  989\n",
       "2  8  78  780"
      ]
     },
     "execution_count": 65,
     "metadata": {},
     "output_type": "execute_result"
    }
   ],
   "source": [
    "pd.merge(df1,df2,on='A')"
   ]
  },
  {
   "cell_type": "code",
   "execution_count": 70,
   "id": "2592b133",
   "metadata": {},
   "outputs": [
    {
     "data": {
      "text/html": [
       "<div>\n",
       "<style scoped>\n",
       "    .dataframe tbody tr th:only-of-type {\n",
       "        vertical-align: middle;\n",
       "    }\n",
       "\n",
       "    .dataframe tbody tr th {\n",
       "        vertical-align: top;\n",
       "    }\n",
       "\n",
       "    .dataframe thead th {\n",
       "        text-align: right;\n",
       "    }\n",
       "</style>\n",
       "<table border=\"1\" class=\"dataframe\">\n",
       "  <thead>\n",
       "    <tr style=\"text-align: right;\">\n",
       "      <th></th>\n",
       "      <th>0</th>\n",
       "      <th>16.99</th>\n",
       "      <th>1.01</th>\n",
       "      <th>Female</th>\n",
       "      <th>No</th>\n",
       "      <th>Sun</th>\n",
       "      <th>Dinner</th>\n",
       "      <th>2</th>\n",
       "    </tr>\n",
       "  </thead>\n",
       "  <tbody>\n",
       "    <tr>\n",
       "      <th>0</th>\n",
       "      <td>1</td>\n",
       "      <td>10.34</td>\n",
       "      <td>1.66</td>\n",
       "      <td>Male</td>\n",
       "      <td>No</td>\n",
       "      <td>Sun</td>\n",
       "      <td>Dinner</td>\n",
       "      <td>3</td>\n",
       "    </tr>\n",
       "    <tr>\n",
       "      <th>1</th>\n",
       "      <td>2</td>\n",
       "      <td>21.01</td>\n",
       "      <td>3.50</td>\n",
       "      <td>Male</td>\n",
       "      <td>No</td>\n",
       "      <td>Sun</td>\n",
       "      <td>Dinner</td>\n",
       "      <td>3</td>\n",
       "    </tr>\n",
       "    <tr>\n",
       "      <th>2</th>\n",
       "      <td>3</td>\n",
       "      <td>23.68</td>\n",
       "      <td>3.31</td>\n",
       "      <td>Male</td>\n",
       "      <td>No</td>\n",
       "      <td>Sun</td>\n",
       "      <td>Dinner</td>\n",
       "      <td>2</td>\n",
       "    </tr>\n",
       "    <tr>\n",
       "      <th>3</th>\n",
       "      <td>4</td>\n",
       "      <td>24.59</td>\n",
       "      <td>3.61</td>\n",
       "      <td>Female</td>\n",
       "      <td>No</td>\n",
       "      <td>Sun</td>\n",
       "      <td>Dinner</td>\n",
       "      <td>4</td>\n",
       "    </tr>\n",
       "    <tr>\n",
       "      <th>4</th>\n",
       "      <td>5</td>\n",
       "      <td>25.29</td>\n",
       "      <td>4.71</td>\n",
       "      <td>Male</td>\n",
       "      <td>No</td>\n",
       "      <td>Sun</td>\n",
       "      <td>Dinner</td>\n",
       "      <td>4</td>\n",
       "    </tr>\n",
       "    <tr>\n",
       "      <th>...</th>\n",
       "      <td>...</td>\n",
       "      <td>...</td>\n",
       "      <td>...</td>\n",
       "      <td>...</td>\n",
       "      <td>...</td>\n",
       "      <td>...</td>\n",
       "      <td>...</td>\n",
       "      <td>...</td>\n",
       "    </tr>\n",
       "    <tr>\n",
       "      <th>238</th>\n",
       "      <td>239</td>\n",
       "      <td>29.03</td>\n",
       "      <td>5.92</td>\n",
       "      <td>Male</td>\n",
       "      <td>No</td>\n",
       "      <td>Sat</td>\n",
       "      <td>Dinner</td>\n",
       "      <td>3</td>\n",
       "    </tr>\n",
       "    <tr>\n",
       "      <th>239</th>\n",
       "      <td>240</td>\n",
       "      <td>27.18</td>\n",
       "      <td>2.00</td>\n",
       "      <td>Female</td>\n",
       "      <td>Yes</td>\n",
       "      <td>Sat</td>\n",
       "      <td>Dinner</td>\n",
       "      <td>2</td>\n",
       "    </tr>\n",
       "    <tr>\n",
       "      <th>240</th>\n",
       "      <td>241</td>\n",
       "      <td>22.67</td>\n",
       "      <td>2.00</td>\n",
       "      <td>Male</td>\n",
       "      <td>Yes</td>\n",
       "      <td>Sat</td>\n",
       "      <td>Dinner</td>\n",
       "      <td>2</td>\n",
       "    </tr>\n",
       "    <tr>\n",
       "      <th>241</th>\n",
       "      <td>242</td>\n",
       "      <td>17.82</td>\n",
       "      <td>1.75</td>\n",
       "      <td>Male</td>\n",
       "      <td>No</td>\n",
       "      <td>Sat</td>\n",
       "      <td>Dinner</td>\n",
       "      <td>2</td>\n",
       "    </tr>\n",
       "    <tr>\n",
       "      <th>242</th>\n",
       "      <td>243</td>\n",
       "      <td>18.78</td>\n",
       "      <td>3.00</td>\n",
       "      <td>Female</td>\n",
       "      <td>No</td>\n",
       "      <td>Thur</td>\n",
       "      <td>Dinner</td>\n",
       "      <td>2</td>\n",
       "    </tr>\n",
       "  </tbody>\n",
       "</table>\n",
       "<p>243 rows × 8 columns</p>\n",
       "</div>"
      ],
      "text/plain": [
       "       0  16.99  1.01  Female   No   Sun  Dinner  2\n",
       "0      1  10.34  1.66    Male   No   Sun  Dinner  3\n",
       "1      2  21.01  3.50    Male   No   Sun  Dinner  3\n",
       "2      3  23.68  3.31    Male   No   Sun  Dinner  2\n",
       "3      4  24.59  3.61  Female   No   Sun  Dinner  4\n",
       "4      5  25.29  4.71    Male   No   Sun  Dinner  4\n",
       "..   ...    ...   ...     ...  ...   ...     ... ..\n",
       "238  239  29.03  5.92    Male   No   Sat  Dinner  3\n",
       "239  240  27.18  2.00  Female  Yes   Sat  Dinner  2\n",
       "240  241  22.67  2.00    Male  Yes   Sat  Dinner  2\n",
       "241  242  17.82  1.75    Male   No   Sat  Dinner  2\n",
       "242  243  18.78  3.00  Female   No  Thur  Dinner  2\n",
       "\n",
       "[243 rows x 8 columns]"
      ]
     },
     "execution_count": 70,
     "metadata": {},
     "output_type": "execute_result"
    }
   ],
   "source": [
    "pd.read_excel('tip_November_2024.xlsx',skiprows=1)"
   ]
  },
  {
   "cell_type": "code",
   "execution_count": 76,
   "id": "11e43c4e",
   "metadata": {},
   "outputs": [
    {
     "data": {
      "text/plain": [
       "0      1.01\n",
       "1      1.66\n",
       "2      3.50\n",
       "3      3.31\n",
       "4      3.61\n",
       "       ... \n",
       "239    5.92\n",
       "240    2.00\n",
       "241    2.00\n",
       "242    1.75\n",
       "243    3.00\n",
       "Name: tip, Length: 244, dtype: float64"
      ]
     },
     "execution_count": 76,
     "metadata": {},
     "output_type": "execute_result"
    }
   ],
   "source": [
    "tip.tip"
   ]
  },
  {
   "cell_type": "code",
   "execution_count": 75,
   "id": "d2d5a229",
   "metadata": {},
   "outputs": [
    {
     "name": "stdout",
     "output_type": "stream",
     "text": [
      "(4, 1.01)\n",
      "(5, 1.66)\n",
      "(6, 3.5)\n",
      "(7, 3.31)\n",
      "(8, 3.61)\n",
      "(9, 4.71)\n",
      "(10, 2.0)\n",
      "(11, 3.12)\n",
      "(12, 1.96)\n",
      "(13, 3.23)\n",
      "(14, 1.71)\n",
      "(15, 5.0)\n",
      "(16, 1.57)\n",
      "(17, 3.0)\n",
      "(18, 3.02)\n",
      "(19, 3.92)\n",
      "(20, 1.67)\n",
      "(21, 3.71)\n",
      "(22, 3.5)\n",
      "(23, 3.35)\n",
      "(24, 4.08)\n",
      "(25, 2.75)\n",
      "(26, 2.23)\n",
      "(27, 7.58)\n",
      "(28, 3.18)\n",
      "(29, 2.34)\n",
      "(30, 2.0)\n",
      "(31, 2.0)\n",
      "(32, 4.3)\n",
      "(33, 3.0)\n",
      "(34, 1.45)\n",
      "(35, 2.5)\n",
      "(36, 3.0)\n",
      "(37, 2.45)\n",
      "(38, 3.27)\n",
      "(39, 3.6)\n",
      "(40, 2.0)\n",
      "(41, 3.07)\n",
      "(42, 2.31)\n",
      "(43, 5.0)\n",
      "(44, 2.24)\n",
      "(45, 2.54)\n",
      "(46, 3.06)\n",
      "(47, 1.32)\n",
      "(48, 5.6)\n",
      "(49, 3.0)\n",
      "(50, 5.0)\n",
      "(51, 6.0)\n",
      "(52, 2.05)\n",
      "(53, 3.0)\n",
      "(54, 2.5)\n",
      "(55, 2.6)\n",
      "(56, 5.2)\n",
      "(57, 1.56)\n",
      "(58, 4.34)\n",
      "(59, 3.51)\n",
      "(60, 3.0)\n",
      "(61, 1.5)\n",
      "(62, 1.76)\n",
      "(63, 6.73)\n",
      "(64, 3.21)\n",
      "(65, 2.0)\n",
      "(66, 1.98)\n",
      "(67, 3.76)\n",
      "(68, 2.64)\n",
      "(69, 3.15)\n",
      "(70, 2.47)\n",
      "(71, 1.0)\n",
      "(72, 2.01)\n",
      "(73, 2.09)\n",
      "(74, 1.97)\n",
      "(75, 3.0)\n",
      "(76, 3.14)\n",
      "(77, 5.0)\n",
      "(78, 2.2)\n",
      "(79, 1.25)\n",
      "(80, 3.08)\n",
      "(81, 4.0)\n",
      "(82, 3.0)\n",
      "(83, 2.71)\n",
      "(84, 3.0)\n",
      "(85, 3.4)\n",
      "(86, 1.83)\n",
      "(87, 5.0)\n",
      "(88, 2.03)\n",
      "(89, 5.17)\n",
      "(90, 2.0)\n",
      "(91, 4.0)\n",
      "(92, 5.85)\n",
      "(93, 3.0)\n",
      "(94, 3.0)\n",
      "(95, 3.5)\n",
      "(96, 1.0)\n",
      "(97, 4.3)\n",
      "(98, 3.25)\n",
      "(99, 4.73)\n",
      "(100, 4.0)\n",
      "(101, 1.5)\n",
      "(102, 3.0)\n",
      "(103, 1.5)\n",
      "(104, 2.5)\n",
      "(105, 3.0)\n",
      "(106, 2.5)\n",
      "(107, 3.48)\n",
      "(108, 4.08)\n",
      "(109, 1.64)\n",
      "(110, 4.06)\n",
      "(111, 4.29)\n",
      "(112, 3.76)\n",
      "(113, 4.0)\n",
      "(114, 3.0)\n",
      "(115, 1.0)\n",
      "(116, 4.0)\n",
      "(117, 2.55)\n",
      "(118, 4.0)\n",
      "(119, 3.5)\n",
      "(120, 5.07)\n",
      "(121, 1.5)\n",
      "(122, 1.8)\n",
      "(123, 2.92)\n",
      "(124, 2.31)\n",
      "(125, 1.68)\n",
      "(126, 2.5)\n",
      "(127, 2.0)\n",
      "(128, 2.52)\n",
      "(129, 4.2)\n",
      "(130, 1.48)\n",
      "(131, 2.0)\n",
      "(132, 2.0)\n",
      "(133, 2.18)\n",
      "(134, 1.5)\n",
      "(135, 2.83)\n",
      "(136, 1.5)\n",
      "(137, 2.0)\n",
      "(138, 3.25)\n",
      "(139, 1.25)\n",
      "(140, 2.0)\n",
      "(141, 2.0)\n",
      "(142, 2.0)\n",
      "(143, 2.75)\n",
      "(144, 3.5)\n",
      "(145, 6.7)\n",
      "(146, 5.0)\n",
      "(147, 5.0)\n",
      "(148, 2.3)\n",
      "(149, 1.5)\n",
      "(150, 1.36)\n",
      "(151, 1.63)\n",
      "(152, 1.73)\n",
      "(153, 2.0)\n",
      "(154, 2.5)\n",
      "(155, 2.0)\n",
      "(156, 2.74)\n",
      "(157, 2.0)\n",
      "(158, 2.0)\n",
      "(159, 5.14)\n",
      "(160, 5.0)\n",
      "(161, 3.75)\n",
      "(162, 2.61)\n",
      "(163, 2.0)\n",
      "(164, 3.5)\n",
      "(165, 2.5)\n",
      "(166, 2.0)\n",
      "(167, 2.0)\n",
      "(168, 3.0)\n",
      "(169, 3.48)\n",
      "(170, 2.24)\n",
      "(171, 4.5)\n",
      "(172, 1.61)\n",
      "(173, 2.0)\n",
      "(174, 10.0)\n",
      "(175, 3.16)\n",
      "(176, 5.15)\n",
      "(177, 3.18)\n",
      "(178, 4.0)\n",
      "(179, 3.11)\n",
      "(180, 2.0)\n",
      "(181, 2.0)\n",
      "(182, 4.0)\n",
      "(183, 3.55)\n",
      "(184, 3.68)\n",
      "(185, 5.65)\n",
      "(186, 3.5)\n",
      "(187, 6.5)\n",
      "(188, 3.0)\n",
      "(189, 5.0)\n",
      "(190, 3.5)\n",
      "(191, 2.0)\n",
      "(192, 3.5)\n",
      "(193, 4.0)\n",
      "(194, 1.5)\n",
      "(195, 4.19)\n",
      "(196, 2.56)\n",
      "(197, 2.02)\n",
      "(198, 4.0)\n",
      "(199, 1.44)\n",
      "(200, 2.0)\n",
      "(201, 5.0)\n",
      "(202, 2.0)\n",
      "(203, 2.0)\n",
      "(204, 4.0)\n",
      "(205, 2.01)\n",
      "(206, 2.0)\n",
      "(207, 2.5)\n",
      "(208, 4.0)\n",
      "(209, 3.23)\n",
      "(210, 3.41)\n",
      "(211, 3.0)\n",
      "(212, 2.03)\n",
      "(213, 2.23)\n",
      "(214, 2.0)\n",
      "(215, 5.16)\n",
      "(216, 9.0)\n",
      "(217, 2.5)\n",
      "(218, 6.5)\n",
      "(219, 1.1)\n",
      "(220, 3.0)\n",
      "(221, 1.5)\n",
      "(222, 1.44)\n",
      "(223, 3.09)\n",
      "(224, 2.2)\n",
      "(225, 3.48)\n",
      "(226, 1.92)\n",
      "(227, 3.0)\n",
      "(228, 1.58)\n",
      "(229, 2.5)\n",
      "(230, 2.0)\n",
      "(231, 3.0)\n",
      "(232, 2.72)\n",
      "(233, 2.88)\n",
      "(234, 2.0)\n",
      "(235, 3.0)\n",
      "(236, 3.39)\n",
      "(237, 1.47)\n",
      "(238, 3.0)\n",
      "(239, 1.25)\n",
      "(240, 1.0)\n",
      "(241, 1.17)\n",
      "(242, 4.67)\n",
      "(243, 5.92)\n",
      "(244, 2.0)\n",
      "(245, 2.0)\n",
      "(246, 1.75)\n",
      "(247, 3.0)\n"
     ]
    }
   ],
   "source": [
    "for i in enumerate(tip.tip,4):\n",
    "    print(i)"
   ]
  },
  {
   "cell_type": "code",
   "execution_count": null,
   "id": "680cb7d9",
   "metadata": {},
   "outputs": [],
   "source": [
    "### openpyxl"
   ]
  },
  {
   "cell_type": "code",
   "execution_count": 28,
   "id": "880c1311",
   "metadata": {},
   "outputs": [],
   "source": [
    "from openpyxl import Workbook\n",
    "wb = Workbook()\n",
    "\n",
    "# grab the active worksheet\n",
    "ws = wb.active\n",
    "\n",
    "# Data can be assigned directly to cells\n",
    "ws['A1'] = 42\n",
    "\n",
    "# Rows can also be appended\n",
    "ws.append([1, 2, 3])\n",
    "\n",
    "# Python types will automatically be converted\n",
    "import datetime\n",
    "ws['A2'] = datetime.datetime.now()\n",
    "\n",
    "# Save the file\n",
    "wb.save(\"sample.xlsx\")\n"
   ]
  },
  {
   "cell_type": "code",
   "execution_count": 92,
   "id": "ab142f73",
   "metadata": {},
   "outputs": [],
   "source": [
    "from openpyxl import Workbook\n",
    "wb = Workbook()\n",
    "\n",
    "# grab the active worksheet\n",
    "ws = wb.active"
   ]
  },
  {
   "cell_type": "code",
   "execution_count": 96,
   "id": "4616d6d7",
   "metadata": {},
   "outputs": [
    {
     "data": {
      "text/html": [
       "<div>\n",
       "<style scoped>\n",
       "    .dataframe tbody tr th:only-of-type {\n",
       "        vertical-align: middle;\n",
       "    }\n",
       "\n",
       "    .dataframe tbody tr th {\n",
       "        vertical-align: top;\n",
       "    }\n",
       "\n",
       "    .dataframe thead th {\n",
       "        text-align: right;\n",
       "    }\n",
       "</style>\n",
       "<table border=\"1\" class=\"dataframe\">\n",
       "  <thead>\n",
       "    <tr style=\"text-align: right;\">\n",
       "      <th></th>\n",
       "      <th>Unnamed: 0</th>\n",
       "      <th>total_bill</th>\n",
       "      <th>tip</th>\n",
       "      <th>sex</th>\n",
       "      <th>smoker</th>\n",
       "      <th>day</th>\n",
       "      <th>time</th>\n",
       "      <th>size</th>\n",
       "    </tr>\n",
       "  </thead>\n",
       "  <tbody>\n",
       "    <tr>\n",
       "      <th>0</th>\n",
       "      <td>0</td>\n",
       "      <td>16.99</td>\n",
       "      <td>1.01</td>\n",
       "      <td>Female</td>\n",
       "      <td>No</td>\n",
       "      <td>Sun</td>\n",
       "      <td>Dinner</td>\n",
       "      <td>2</td>\n",
       "    </tr>\n",
       "    <tr>\n",
       "      <th>1</th>\n",
       "      <td>1</td>\n",
       "      <td>10.34</td>\n",
       "      <td>1.66</td>\n",
       "      <td>Male</td>\n",
       "      <td>No</td>\n",
       "      <td>Sun</td>\n",
       "      <td>Dinner</td>\n",
       "      <td>3</td>\n",
       "    </tr>\n",
       "    <tr>\n",
       "      <th>2</th>\n",
       "      <td>2</td>\n",
       "      <td>21.01</td>\n",
       "      <td>3.50</td>\n",
       "      <td>Male</td>\n",
       "      <td>No</td>\n",
       "      <td>Sun</td>\n",
       "      <td>Dinner</td>\n",
       "      <td>3</td>\n",
       "    </tr>\n",
       "    <tr>\n",
       "      <th>3</th>\n",
       "      <td>3</td>\n",
       "      <td>23.68</td>\n",
       "      <td>3.31</td>\n",
       "      <td>Male</td>\n",
       "      <td>No</td>\n",
       "      <td>Sun</td>\n",
       "      <td>Dinner</td>\n",
       "      <td>2</td>\n",
       "    </tr>\n",
       "    <tr>\n",
       "      <th>4</th>\n",
       "      <td>4</td>\n",
       "      <td>24.59</td>\n",
       "      <td>3.61</td>\n",
       "      <td>Female</td>\n",
       "      <td>No</td>\n",
       "      <td>Sun</td>\n",
       "      <td>Dinner</td>\n",
       "      <td>4</td>\n",
       "    </tr>\n",
       "  </tbody>\n",
       "</table>\n",
       "</div>"
      ],
      "text/plain": [
       "   Unnamed: 0  total_bill   tip     sex smoker  day    time size\n",
       "0           0       16.99  1.01  Female     No  Sun  Dinner    2\n",
       "1           1       10.34  1.66    Male     No  Sun  Dinner    3\n",
       "2           2       21.01  3.50    Male     No  Sun  Dinner    3\n",
       "3           3       23.68  3.31    Male     No  Sun  Dinner    2\n",
       "4           4       24.59  3.61  Female     No  Sun  Dinner    4"
      ]
     },
     "execution_count": 96,
     "metadata": {},
     "output_type": "execute_result"
    }
   ],
   "source": [
    "tip.head()"
   ]
  },
  {
   "cell_type": "code",
   "execution_count": 103,
   "id": "71094fb8",
   "metadata": {},
   "outputs": [],
   "source": [
    "for i,k in enumerate(tip.columns,1):\n",
    "    for j,l in enumerate(tip[k],1):\n",
    "        ws.cell(row=j,column=i,value=l)"
   ]
  },
  {
   "cell_type": "code",
   "execution_count": 104,
   "id": "db101767",
   "metadata": {},
   "outputs": [],
   "source": [
    "wb.save('sample1.xlsx')"
   ]
  },
  {
   "cell_type": "code",
   "execution_count": 108,
   "id": "b180d344",
   "metadata": {
    "scrolled": true
   },
   "outputs": [
    {
     "data": {
      "text/html": [
       "<div>\n",
       "<style scoped>\n",
       "    .dataframe tbody tr th:only-of-type {\n",
       "        vertical-align: middle;\n",
       "    }\n",
       "\n",
       "    .dataframe tbody tr th {\n",
       "        vertical-align: top;\n",
       "    }\n",
       "\n",
       "    .dataframe thead th {\n",
       "        text-align: right;\n",
       "    }\n",
       "</style>\n",
       "<table border=\"1\" class=\"dataframe\">\n",
       "  <thead>\n",
       "    <tr style=\"text-align: right;\">\n",
       "      <th></th>\n",
       "      <th>0</th>\n",
       "      <th>16.99</th>\n",
       "      <th>1.01</th>\n",
       "      <th>Female</th>\n",
       "      <th>No</th>\n",
       "      <th>Sun</th>\n",
       "      <th>Dinner</th>\n",
       "      <th>2</th>\n",
       "      <th>Unnamed: 8</th>\n",
       "    </tr>\n",
       "  </thead>\n",
       "  <tbody>\n",
       "    <tr>\n",
       "      <th>0</th>\n",
       "      <td>1.0</td>\n",
       "      <td>10.34</td>\n",
       "      <td>1.66</td>\n",
       "      <td>Male</td>\n",
       "      <td>No</td>\n",
       "      <td>Sun</td>\n",
       "      <td>Dinner</td>\n",
       "      <td>3</td>\n",
       "      <td>2</td>\n",
       "    </tr>\n",
       "    <tr>\n",
       "      <th>1</th>\n",
       "      <td>2.0</td>\n",
       "      <td>21.01</td>\n",
       "      <td>3.50</td>\n",
       "      <td>Male</td>\n",
       "      <td>No</td>\n",
       "      <td>Sun</td>\n",
       "      <td>Dinner</td>\n",
       "      <td>3</td>\n",
       "      <td>3</td>\n",
       "    </tr>\n",
       "    <tr>\n",
       "      <th>2</th>\n",
       "      <td>3.0</td>\n",
       "      <td>23.68</td>\n",
       "      <td>3.31</td>\n",
       "      <td>Male</td>\n",
       "      <td>No</td>\n",
       "      <td>Sun</td>\n",
       "      <td>Dinner</td>\n",
       "      <td>2</td>\n",
       "      <td>3</td>\n",
       "    </tr>\n",
       "    <tr>\n",
       "      <th>3</th>\n",
       "      <td>4.0</td>\n",
       "      <td>24.59</td>\n",
       "      <td>3.61</td>\n",
       "      <td>Female</td>\n",
       "      <td>No</td>\n",
       "      <td>Sun</td>\n",
       "      <td>Dinner</td>\n",
       "      <td>4</td>\n",
       "      <td>2</td>\n",
       "    </tr>\n",
       "    <tr>\n",
       "      <th>4</th>\n",
       "      <td>5.0</td>\n",
       "      <td>25.29</td>\n",
       "      <td>4.71</td>\n",
       "      <td>Male</td>\n",
       "      <td>No</td>\n",
       "      <td>Sun</td>\n",
       "      <td>Dinner</td>\n",
       "      <td>4</td>\n",
       "      <td>4</td>\n",
       "    </tr>\n",
       "    <tr>\n",
       "      <th>...</th>\n",
       "      <td>...</td>\n",
       "      <td>...</td>\n",
       "      <td>...</td>\n",
       "      <td>...</td>\n",
       "      <td>...</td>\n",
       "      <td>...</td>\n",
       "      <td>...</td>\n",
       "      <td>...</td>\n",
       "      <td>...</td>\n",
       "    </tr>\n",
       "    <tr>\n",
       "      <th>239</th>\n",
       "      <td>240.0</td>\n",
       "      <td>27.18</td>\n",
       "      <td>2.00</td>\n",
       "      <td>Female</td>\n",
       "      <td>Yes</td>\n",
       "      <td>Sat</td>\n",
       "      <td>Dinner</td>\n",
       "      <td>2</td>\n",
       "      <td>3</td>\n",
       "    </tr>\n",
       "    <tr>\n",
       "      <th>240</th>\n",
       "      <td>241.0</td>\n",
       "      <td>22.67</td>\n",
       "      <td>2.00</td>\n",
       "      <td>Male</td>\n",
       "      <td>Yes</td>\n",
       "      <td>Sat</td>\n",
       "      <td>Dinner</td>\n",
       "      <td>2</td>\n",
       "      <td>2</td>\n",
       "    </tr>\n",
       "    <tr>\n",
       "      <th>241</th>\n",
       "      <td>242.0</td>\n",
       "      <td>17.82</td>\n",
       "      <td>1.75</td>\n",
       "      <td>Male</td>\n",
       "      <td>No</td>\n",
       "      <td>Sat</td>\n",
       "      <td>Dinner</td>\n",
       "      <td>2</td>\n",
       "      <td>2</td>\n",
       "    </tr>\n",
       "    <tr>\n",
       "      <th>242</th>\n",
       "      <td>243.0</td>\n",
       "      <td>18.78</td>\n",
       "      <td>3.00</td>\n",
       "      <td>Female</td>\n",
       "      <td>No</td>\n",
       "      <td>Thur</td>\n",
       "      <td>Dinner</td>\n",
       "      <td>2</td>\n",
       "      <td>2</td>\n",
       "    </tr>\n",
       "    <tr>\n",
       "      <th>243</th>\n",
       "      <td>NaN</td>\n",
       "      <td>243.00</td>\n",
       "      <td>18.78</td>\n",
       "      <td>3</td>\n",
       "      <td>Female</td>\n",
       "      <td>No</td>\n",
       "      <td>Thur</td>\n",
       "      <td>Dinner</td>\n",
       "      <td>2</td>\n",
       "    </tr>\n",
       "  </tbody>\n",
       "</table>\n",
       "<p>244 rows × 9 columns</p>\n",
       "</div>"
      ],
      "text/plain": [
       "         0   16.99   1.01  Female      No   Sun  Dinner       2  Unnamed: 8\n",
       "0      1.0   10.34   1.66    Male      No   Sun  Dinner       3           2\n",
       "1      2.0   21.01   3.50    Male      No   Sun  Dinner       3           3\n",
       "2      3.0   23.68   3.31    Male      No   Sun  Dinner       2           3\n",
       "3      4.0   24.59   3.61  Female      No   Sun  Dinner       4           2\n",
       "4      5.0   25.29   4.71    Male      No   Sun  Dinner       4           4\n",
       "..     ...     ...    ...     ...     ...   ...     ...     ...         ...\n",
       "239  240.0   27.18   2.00  Female     Yes   Sat  Dinner       2           3\n",
       "240  241.0   22.67   2.00    Male     Yes   Sat  Dinner       2           2\n",
       "241  242.0   17.82   1.75    Male      No   Sat  Dinner       2           2\n",
       "242  243.0   18.78   3.00  Female      No  Thur  Dinner       2           2\n",
       "243    NaN  243.00  18.78       3  Female    No    Thur  Dinner           2\n",
       "\n",
       "[244 rows x 9 columns]"
      ]
     },
     "execution_count": 108,
     "metadata": {},
     "output_type": "execute_result"
    }
   ],
   "source": [
    "pd.read_excel('sample1.xlsx')"
   ]
  },
  {
   "cell_type": "code",
   "execution_count": 102,
   "id": "88fa6f89",
   "metadata": {},
   "outputs": [],
   "source": [
    "import os\n",
    "os.remove(\"sample1.xlsx\")"
   ]
  },
  {
   "cell_type": "code",
   "execution_count": 124,
   "id": "021705d8",
   "metadata": {},
   "outputs": [
    {
     "data": {
      "text/plain": [
       "'DinnerDinnerDinnerDinnerDinnerDinnerDinnerDinnerDinnerDinnerDinnerDinnerDinnerDinnerDinnerDinnerDinnerDinnerDinnerDinnerDinnerDinnerDinnerDinnerDinnerDinnerDinnerDinnerDinnerDinnerDinnerDinnerDinnerDinnerDinnerDinnerDinnerDinnerDinnerDinnerDinnerDinnerDinnerDinnerDinnerDinnerDinnerDinnerDinnerDinnerDinnerDinnerDinnerDinnerDinnerDinnerDinnerDinnerDinnerDinnerDinnerDinnerDinnerDinnerDinnerDinnerDinnerDinnerDinnerDinnerDinnerDinnerDinnerDinnerDinnerDinnerDinnerLunchLunchLunchLunchLunchLunchLunchLunchLunchLunchLunchLunchLunchDinnerDinnerDinnerDinnerDinnerDinnerDinnerDinnerDinnerDinnerDinnerDinnerDinnerDinnerDinnerDinnerDinnerDinnerDinnerDinnerDinnerDinnerDinnerDinnerDinnerDinnerDinnerLunchLunchLunchLunchLunchLunchLunchLunchLunchLunchLunchLunchLunchLunchLunchLunchLunchLunchLunchLunchLunchLunchLunchLunchLunchLunchLunchLunchLunchLunchLunchLunchLunchDinnerDinnerDinnerDinnerDinnerDinnerDinnerDinnerDinnerDinnerDinnerDinnerDinnerDinnerDinnerDinnerDinnerDinnerDinnerDinnerDinnerDinnerDinnerDinnerDinnerDinnerDinnerDinnerDinnerDinnerDinnerDinnerDinnerDinnerDinnerDinnerDinnerDinnerDinnerDinnerDinnerLunchLunchLunchLunchLunchLunchLunchLunchLunchLunchLunchLunchLunchLunchLunchDinnerDinnerDinnerDinnerDinnerDinnerDinnerDinnerDinnerDinnerDinnerDinnerDinnerDinnerLunchLunchLunchLunchLunchLunchLunchDinnerDinnerDinnerDinnerDinnerDinnerDinnerDinnerDinnerDinnerDinnerDinnerDinnerDinnerDinnerDinnerDinner'"
      ]
     },
     "execution_count": 124,
     "metadata": {},
     "output_type": "execute_result"
    }
   ],
   "source": [
    "tip['time'].sum()"
   ]
  },
  {
   "cell_type": "code",
   "execution_count": 126,
   "id": "0ccb6856",
   "metadata": {},
   "outputs": [
    {
     "data": {
      "text/plain": [
       "['H', 'e', 'l', 'l', 'o']"
      ]
     },
     "execution_count": 126,
     "metadata": {},
     "output_type": "execute_result"
    }
   ],
   "source": [
    "str1='Hello'\n",
    "list(str1)"
   ]
  },
  {
   "cell_type": "code",
   "execution_count": 127,
   "id": "7b71d5d7",
   "metadata": {},
   "outputs": [
    {
     "data": {
      "text/plain": [
       "(244, 8)"
      ]
     },
     "execution_count": 127,
     "metadata": {},
     "output_type": "execute_result"
    }
   ],
   "source": [
    "tip.shape"
   ]
  },
  {
   "cell_type": "code",
   "execution_count": 132,
   "id": "ea616463",
   "metadata": {},
   "outputs": [
    {
     "data": {
      "text/html": [
       "<div>\n",
       "<style scoped>\n",
       "    .dataframe tbody tr th:only-of-type {\n",
       "        vertical-align: middle;\n",
       "    }\n",
       "\n",
       "    .dataframe tbody tr th {\n",
       "        vertical-align: top;\n",
       "    }\n",
       "\n",
       "    .dataframe thead th {\n",
       "        text-align: right;\n",
       "    }\n",
       "</style>\n",
       "<table border=\"1\" class=\"dataframe\">\n",
       "  <thead>\n",
       "    <tr style=\"text-align: right;\">\n",
       "      <th></th>\n",
       "      <th>Unnamed: 0</th>\n",
       "      <th>total_bill</th>\n",
       "      <th>tip</th>\n",
       "      <th>sex</th>\n",
       "      <th>smoker</th>\n",
       "      <th>day</th>\n",
       "      <th>time</th>\n",
       "      <th>size</th>\n",
       "    </tr>\n",
       "  </thead>\n",
       "  <tbody>\n",
       "    <tr>\n",
       "      <th>60</th>\n",
       "      <td>60</td>\n",
       "      <td>20.29</td>\n",
       "      <td>3.21</td>\n",
       "      <td>Male</td>\n",
       "      <td>Yes</td>\n",
       "      <td>Sat</td>\n",
       "      <td>Dinner</td>\n",
       "      <td>2</td>\n",
       "    </tr>\n",
       "    <tr>\n",
       "      <th>63</th>\n",
       "      <td>63</td>\n",
       "      <td>18.29</td>\n",
       "      <td>3.76</td>\n",
       "      <td>Male</td>\n",
       "      <td>Yes</td>\n",
       "      <td>Sat</td>\n",
       "      <td>Dinner</td>\n",
       "      <td>4</td>\n",
       "    </tr>\n",
       "    <tr>\n",
       "      <th>76</th>\n",
       "      <td>76</td>\n",
       "      <td>17.92</td>\n",
       "      <td>3.08</td>\n",
       "      <td>Male</td>\n",
       "      <td>Yes</td>\n",
       "      <td>Sat</td>\n",
       "      <td>Dinner</td>\n",
       "      <td>2</td>\n",
       "    </tr>\n",
       "    <tr>\n",
       "      <th>98</th>\n",
       "      <td>98</td>\n",
       "      <td>21.01</td>\n",
       "      <td>3.00</td>\n",
       "      <td>Male</td>\n",
       "      <td>Yes</td>\n",
       "      <td>Fri</td>\n",
       "      <td>Dinner</td>\n",
       "      <td>2</td>\n",
       "    </tr>\n",
       "    <tr>\n",
       "      <th>136</th>\n",
       "      <td>136</td>\n",
       "      <td>10.33</td>\n",
       "      <td>2.00</td>\n",
       "      <td>Female</td>\n",
       "      <td>No</td>\n",
       "      <td>Thur</td>\n",
       "      <td>Lunch</td>\n",
       "      <td>2</td>\n",
       "    </tr>\n",
       "    <tr>\n",
       "      <th>163</th>\n",
       "      <td>163</td>\n",
       "      <td>13.81</td>\n",
       "      <td>2.00</td>\n",
       "      <td>Male</td>\n",
       "      <td>No</td>\n",
       "      <td>Sun</td>\n",
       "      <td>Dinner</td>\n",
       "      <td>2</td>\n",
       "    </tr>\n",
       "    <tr>\n",
       "      <th>172</th>\n",
       "      <td>172</td>\n",
       "      <td>7.25</td>\n",
       "      <td>5.15</td>\n",
       "      <td>Male</td>\n",
       "      <td>Yes</td>\n",
       "      <td>Sun</td>\n",
       "      <td>Dinner</td>\n",
       "      <td>2</td>\n",
       "    </tr>\n",
       "    <tr>\n",
       "      <th>185</th>\n",
       "      <td>185</td>\n",
       "      <td>20.69</td>\n",
       "      <td>5.00</td>\n",
       "      <td>Male</td>\n",
       "      <td>No</td>\n",
       "      <td>Sun</td>\n",
       "      <td>Dinner</td>\n",
       "      <td>5</td>\n",
       "    </tr>\n",
       "    <tr>\n",
       "      <th>196</th>\n",
       "      <td>196</td>\n",
       "      <td>10.34</td>\n",
       "      <td>2.00</td>\n",
       "      <td>Male</td>\n",
       "      <td>Yes</td>\n",
       "      <td>Thur</td>\n",
       "      <td>Lunch</td>\n",
       "      <td>2</td>\n",
       "    </tr>\n",
       "    <tr>\n",
       "      <th>202</th>\n",
       "      <td>202</td>\n",
       "      <td>13.00</td>\n",
       "      <td>2.00</td>\n",
       "      <td>Female</td>\n",
       "      <td>Yes</td>\n",
       "      <td>Thur</td>\n",
       "      <td>Lunch</td>\n",
       "      <td>2</td>\n",
       "    </tr>\n",
       "    <tr>\n",
       "      <th>221</th>\n",
       "      <td>221</td>\n",
       "      <td>13.42</td>\n",
       "      <td>3.48</td>\n",
       "      <td>Female</td>\n",
       "      <td>Yes</td>\n",
       "      <td>Fri</td>\n",
       "      <td>Lunch</td>\n",
       "      <td>2</td>\n",
       "    </tr>\n",
       "    <tr>\n",
       "      <th>223</th>\n",
       "      <td>223</td>\n",
       "      <td>15.98</td>\n",
       "      <td>3.00</td>\n",
       "      <td>Female</td>\n",
       "      <td>No</td>\n",
       "      <td>Fri</td>\n",
       "      <td>Lunch</td>\n",
       "      <td>3</td>\n",
       "    </tr>\n",
       "    <tr>\n",
       "      <th>224</th>\n",
       "      <td>224</td>\n",
       "      <td>13.42</td>\n",
       "      <td>1.58</td>\n",
       "      <td>Male</td>\n",
       "      <td>Yes</td>\n",
       "      <td>Fri</td>\n",
       "      <td>Lunch</td>\n",
       "      <td>2</td>\n",
       "    </tr>\n",
       "    <tr>\n",
       "      <th>231</th>\n",
       "      <td>231</td>\n",
       "      <td>15.69</td>\n",
       "      <td>3.00</td>\n",
       "      <td>Male</td>\n",
       "      <td>Yes</td>\n",
       "      <td>Sat</td>\n",
       "      <td>Dinner</td>\n",
       "      <td>3</td>\n",
       "    </tr>\n",
       "    <tr>\n",
       "      <th>235</th>\n",
       "      <td>235</td>\n",
       "      <td>10.07</td>\n",
       "      <td>1.25</td>\n",
       "      <td>Male</td>\n",
       "      <td>No</td>\n",
       "      <td>Sat</td>\n",
       "      <td>Dinner</td>\n",
       "      <td>2</td>\n",
       "    </tr>\n",
       "  </tbody>\n",
       "</table>\n",
       "</div>"
      ],
      "text/plain": [
       "     Unnamed: 0  total_bill   tip     sex smoker   day    time size\n",
       "60           60       20.29  3.21    Male    Yes   Sat  Dinner    2\n",
       "63           63       18.29  3.76    Male    Yes   Sat  Dinner    4\n",
       "76           76       17.92  3.08    Male    Yes   Sat  Dinner    2\n",
       "98           98       21.01  3.00    Male    Yes   Fri  Dinner    2\n",
       "136         136       10.33  2.00  Female     No  Thur   Lunch    2\n",
       "163         163       13.81  2.00    Male     No   Sun  Dinner    2\n",
       "172         172        7.25  5.15    Male    Yes   Sun  Dinner    2\n",
       "185         185       20.69  5.00    Male     No   Sun  Dinner    5\n",
       "196         196       10.34  2.00    Male    Yes  Thur   Lunch    2\n",
       "202         202       13.00  2.00  Female    Yes  Thur   Lunch    2\n",
       "221         221       13.42  3.48  Female    Yes   Fri   Lunch    2\n",
       "223         223       15.98  3.00  Female     No   Fri   Lunch    3\n",
       "224         224       13.42  1.58    Male    Yes   Fri   Lunch    2\n",
       "231         231       15.69  3.00    Male    Yes   Sat  Dinner    3\n",
       "235         235       10.07  1.25    Male     No   Sat  Dinner    2"
      ]
     },
     "execution_count": 132,
     "metadata": {},
     "output_type": "execute_result"
    }
   ],
   "source": [
    "tip.loc[tip.total_bill.duplicated()]"
   ]
  },
  {
   "cell_type": "code",
   "execution_count": 133,
   "id": "b0832a87",
   "metadata": {},
   "outputs": [
    {
     "data": {
      "text/html": [
       "<div>\n",
       "<style scoped>\n",
       "    .dataframe tbody tr th:only-of-type {\n",
       "        vertical-align: middle;\n",
       "    }\n",
       "\n",
       "    .dataframe tbody tr th {\n",
       "        vertical-align: top;\n",
       "    }\n",
       "\n",
       "    .dataframe thead th {\n",
       "        text-align: right;\n",
       "    }\n",
       "</style>\n",
       "<table border=\"1\" class=\"dataframe\">\n",
       "  <thead>\n",
       "    <tr style=\"text-align: right;\">\n",
       "      <th></th>\n",
       "      <th>Unnamed: 0</th>\n",
       "      <th>total_bill</th>\n",
       "      <th>tip</th>\n",
       "      <th>sex</th>\n",
       "      <th>smoker</th>\n",
       "      <th>day</th>\n",
       "      <th>time</th>\n",
       "      <th>size</th>\n",
       "    </tr>\n",
       "  </thead>\n",
       "  <tbody>\n",
       "    <tr>\n",
       "      <th>21</th>\n",
       "      <td>21</td>\n",
       "      <td>20.29</td>\n",
       "      <td>2.75</td>\n",
       "      <td>Female</td>\n",
       "      <td>No</td>\n",
       "      <td>Sat</td>\n",
       "      <td>Dinner</td>\n",
       "      <td>2</td>\n",
       "    </tr>\n",
       "    <tr>\n",
       "      <th>60</th>\n",
       "      <td>60</td>\n",
       "      <td>20.29</td>\n",
       "      <td>3.21</td>\n",
       "      <td>Male</td>\n",
       "      <td>Yes</td>\n",
       "      <td>Sat</td>\n",
       "      <td>Dinner</td>\n",
       "      <td>2</td>\n",
       "    </tr>\n",
       "  </tbody>\n",
       "</table>\n",
       "</div>"
      ],
      "text/plain": [
       "    Unnamed: 0  total_bill   tip     sex smoker  day    time size\n",
       "21          21       20.29  2.75  Female     No  Sat  Dinner    2\n",
       "60          60       20.29  3.21    Male    Yes  Sat  Dinner    2"
      ]
     },
     "execution_count": 133,
     "metadata": {},
     "output_type": "execute_result"
    }
   ],
   "source": [
    "tip.query('total_bill== 20.29')"
   ]
  },
  {
   "cell_type": "code",
   "execution_count": 134,
   "id": "3e19ad83",
   "metadata": {},
   "outputs": [
    {
     "data": {
      "text/html": [
       "<div>\n",
       "<style scoped>\n",
       "    .dataframe tbody tr th:only-of-type {\n",
       "        vertical-align: middle;\n",
       "    }\n",
       "\n",
       "    .dataframe tbody tr th {\n",
       "        vertical-align: top;\n",
       "    }\n",
       "\n",
       "    .dataframe thead th {\n",
       "        text-align: right;\n",
       "    }\n",
       "</style>\n",
       "<table border=\"1\" class=\"dataframe\">\n",
       "  <thead>\n",
       "    <tr style=\"text-align: right;\">\n",
       "      <th></th>\n",
       "      <th>Unnamed: 0</th>\n",
       "      <th>total_bill</th>\n",
       "      <th>tip</th>\n",
       "      <th>sex</th>\n",
       "      <th>smoker</th>\n",
       "      <th>day</th>\n",
       "      <th>time</th>\n",
       "      <th>size</th>\n",
       "    </tr>\n",
       "  </thead>\n",
       "  <tbody>\n",
       "    <tr>\n",
       "      <th>1</th>\n",
       "      <td>1</td>\n",
       "      <td>10.34</td>\n",
       "      <td>1.66</td>\n",
       "      <td>Male</td>\n",
       "      <td>No</td>\n",
       "      <td>Sun</td>\n",
       "      <td>Dinner</td>\n",
       "      <td>3</td>\n",
       "    </tr>\n",
       "    <tr>\n",
       "      <th>2</th>\n",
       "      <td>2</td>\n",
       "      <td>21.01</td>\n",
       "      <td>3.50</td>\n",
       "      <td>Male</td>\n",
       "      <td>No</td>\n",
       "      <td>Sun</td>\n",
       "      <td>Dinner</td>\n",
       "      <td>3</td>\n",
       "    </tr>\n",
       "    <tr>\n",
       "      <th>3</th>\n",
       "      <td>3</td>\n",
       "      <td>23.68</td>\n",
       "      <td>3.31</td>\n",
       "      <td>Male</td>\n",
       "      <td>No</td>\n",
       "      <td>Sun</td>\n",
       "      <td>Dinner</td>\n",
       "      <td>2</td>\n",
       "    </tr>\n",
       "    <tr>\n",
       "      <th>5</th>\n",
       "      <td>5</td>\n",
       "      <td>25.29</td>\n",
       "      <td>4.71</td>\n",
       "      <td>Male</td>\n",
       "      <td>No</td>\n",
       "      <td>Sun</td>\n",
       "      <td>Dinner</td>\n",
       "      <td>4</td>\n",
       "    </tr>\n",
       "    <tr>\n",
       "      <th>6</th>\n",
       "      <td>6</td>\n",
       "      <td>8.77</td>\n",
       "      <td>2.00</td>\n",
       "      <td>Male</td>\n",
       "      <td>No</td>\n",
       "      <td>Sun</td>\n",
       "      <td>Dinner</td>\n",
       "      <td>2</td>\n",
       "    </tr>\n",
       "    <tr>\n",
       "      <th>...</th>\n",
       "      <td>...</td>\n",
       "      <td>...</td>\n",
       "      <td>...</td>\n",
       "      <td>...</td>\n",
       "      <td>...</td>\n",
       "      <td>...</td>\n",
       "      <td>...</td>\n",
       "      <td>...</td>\n",
       "    </tr>\n",
       "    <tr>\n",
       "      <th>236</th>\n",
       "      <td>236</td>\n",
       "      <td>12.60</td>\n",
       "      <td>1.00</td>\n",
       "      <td>Male</td>\n",
       "      <td>Yes</td>\n",
       "      <td>Sat</td>\n",
       "      <td>Dinner</td>\n",
       "      <td>2</td>\n",
       "    </tr>\n",
       "    <tr>\n",
       "      <th>237</th>\n",
       "      <td>237</td>\n",
       "      <td>32.83</td>\n",
       "      <td>1.17</td>\n",
       "      <td>Male</td>\n",
       "      <td>Yes</td>\n",
       "      <td>Sat</td>\n",
       "      <td>Dinner</td>\n",
       "      <td>2</td>\n",
       "    </tr>\n",
       "    <tr>\n",
       "      <th>239</th>\n",
       "      <td>239</td>\n",
       "      <td>29.03</td>\n",
       "      <td>5.92</td>\n",
       "      <td>Male</td>\n",
       "      <td>No</td>\n",
       "      <td>Sat</td>\n",
       "      <td>Dinner</td>\n",
       "      <td>3</td>\n",
       "    </tr>\n",
       "    <tr>\n",
       "      <th>241</th>\n",
       "      <td>241</td>\n",
       "      <td>22.67</td>\n",
       "      <td>2.00</td>\n",
       "      <td>Male</td>\n",
       "      <td>Yes</td>\n",
       "      <td>Sat</td>\n",
       "      <td>Dinner</td>\n",
       "      <td>2</td>\n",
       "    </tr>\n",
       "    <tr>\n",
       "      <th>242</th>\n",
       "      <td>242</td>\n",
       "      <td>17.82</td>\n",
       "      <td>1.75</td>\n",
       "      <td>Male</td>\n",
       "      <td>No</td>\n",
       "      <td>Sat</td>\n",
       "      <td>Dinner</td>\n",
       "      <td>2</td>\n",
       "    </tr>\n",
       "  </tbody>\n",
       "</table>\n",
       "<p>157 rows × 8 columns</p>\n",
       "</div>"
      ],
      "text/plain": [
       "     Unnamed: 0  total_bill   tip   sex smoker  day    time size\n",
       "1             1       10.34  1.66  Male     No  Sun  Dinner    3\n",
       "2             2       21.01  3.50  Male     No  Sun  Dinner    3\n",
       "3             3       23.68  3.31  Male     No  Sun  Dinner    2\n",
       "5             5       25.29  4.71  Male     No  Sun  Dinner    4\n",
       "6             6        8.77  2.00  Male     No  Sun  Dinner    2\n",
       "..          ...         ...   ...   ...    ...  ...     ...  ...\n",
       "236         236       12.60  1.00  Male    Yes  Sat  Dinner    2\n",
       "237         237       32.83  1.17  Male    Yes  Sat  Dinner    2\n",
       "239         239       29.03  5.92  Male     No  Sat  Dinner    3\n",
       "241         241       22.67  2.00  Male    Yes  Sat  Dinner    2\n",
       "242         242       17.82  1.75  Male     No  Sat  Dinner    2\n",
       "\n",
       "[157 rows x 8 columns]"
      ]
     },
     "execution_count": 134,
     "metadata": {},
     "output_type": "execute_result"
    }
   ],
   "source": [
    "tip.query('sex== \"Male\"')"
   ]
  },
  {
   "cell_type": "code",
   "execution_count": 149,
   "id": "db071d1e",
   "metadata": {},
   "outputs": [
    {
     "data": {
      "text/plain": [
       "0      D\n",
       "1      D\n",
       "2      D\n",
       "3      D\n",
       "4      D\n",
       "      ..\n",
       "239    D\n",
       "240    D\n",
       "241    D\n",
       "242    D\n",
       "243    D\n",
       "Name: time, Length: 244, dtype: object"
      ]
     },
     "execution_count": 149,
     "metadata": {},
     "output_type": "execute_result"
    }
   ],
   "source": [
    "tip.time.map({'Dinner':'D','Luunch':'L'})"
   ]
  },
  {
   "cell_type": "code",
   "execution_count": null,
   "id": "bf834ef0",
   "metadata": {},
   "outputs": [],
   "source": []
  },
  {
   "cell_type": "code",
   "execution_count": 10,
   "id": "f8443fd7",
   "metadata": {},
   "outputs": [
    {
     "data": {
      "text/plain": [
       "Unnamed: 0      int64\n",
       "total_bill    float64\n",
       "tip           float64\n",
       "sex            object\n",
       "smoker         object\n",
       "day            object\n",
       "time           object\n",
       "size            int64\n",
       "dtype: object"
      ]
     },
     "execution_count": 10,
     "metadata": {},
     "output_type": "execute_result"
    }
   ],
   "source": [
    "tip.dtypes"
   ]
  },
  {
   "cell_type": "code",
   "execution_count": 13,
   "id": "2478f313",
   "metadata": {},
   "outputs": [],
   "source": [
    "tip['day']=tip['day'].astype('category')"
   ]
  },
  {
   "cell_type": "code",
   "execution_count": 18,
   "id": "a862911c",
   "metadata": {},
   "outputs": [
    {
     "data": {
      "text/plain": [
       "0    Sun\n",
       "1    Sun\n",
       "2    Sun\n",
       "3    Sun\n",
       "4    Sun\n",
       "Name: day, dtype: category\n",
       "Categories (4, object): ['Fri', 'Sat', 'Sun', 'Thur']"
      ]
     },
     "execution_count": 18,
     "metadata": {},
     "output_type": "execute_result"
    }
   ],
   "source": [
    "tip['day'].head()"
   ]
  },
  {
   "cell_type": "code",
   "execution_count": 14,
   "id": "114dd0c4",
   "metadata": {},
   "outputs": [
    {
     "data": {
      "text/plain": [
       "Unnamed: 0       int64\n",
       "total_bill     float64\n",
       "tip            float64\n",
       "sex             object\n",
       "smoker          object\n",
       "day           category\n",
       "time            object\n",
       "size             int64\n",
       "dtype: object"
      ]
     },
     "execution_count": 14,
     "metadata": {},
     "output_type": "execute_result"
    }
   ],
   "source": [
    "tip.dtypes"
   ]
  },
  {
   "cell_type": "code",
   "execution_count": 16,
   "id": "ab3b2107",
   "metadata": {},
   "outputs": [
    {
     "data": {
      "text/plain": [
       "0      Su\n",
       "1      Su\n",
       "2      Su\n",
       "3      Su\n",
       "4      Su\n",
       "       ..\n",
       "239    St\n",
       "240    St\n",
       "241    St\n",
       "242    St\n",
       "243    Th\n",
       "Name: day, Length: 244, dtype: category\n",
       "Categories (4, object): ['Fr', 'St', 'Su', 'Th']"
      ]
     },
     "execution_count": 16,
     "metadata": {},
     "output_type": "execute_result"
    }
   ],
   "source": [
    "tip['day'].cat.rename_categories(['Fr','St','Su','Th'])"
   ]
  },
  {
   "cell_type": "code",
   "execution_count": 19,
   "id": "36bb5fc4",
   "metadata": {},
   "outputs": [
    {
     "data": {
      "text/plain": [
       "0      7\n",
       "1      7\n",
       "2      7\n",
       "3      7\n",
       "4      7\n",
       "      ..\n",
       "239    6\n",
       "240    6\n",
       "241    6\n",
       "242    6\n",
       "243    4\n",
       "Name: day, Length: 244, dtype: category\n",
       "Categories (4, int64): [5, 6, 7, 4]"
      ]
     },
     "execution_count": 19,
     "metadata": {},
     "output_type": "execute_result"
    }
   ],
   "source": [
    "tip['day'].cat.rename_categories([5,6,7,4])"
   ]
  },
  {
   "cell_type": "code",
   "execution_count": null,
   "id": "d215e54b",
   "metadata": {},
   "outputs": [],
   "source": []
  },
  {
   "cell_type": "code",
   "execution_count": 29,
   "id": "bd8b7253",
   "metadata": {},
   "outputs": [
    {
     "data": {
      "application/javascript": [
       "\n",
       "        if (window._pyforest_update_imports_cell) { window._pyforest_update_imports_cell('import pandas as pd\\nimport glob'); }\n",
       "    "
      ],
      "text/plain": [
       "<IPython.core.display.Javascript object>"
      ]
     },
     "metadata": {},
     "output_type": "display_data"
    },
    {
     "data": {
      "text/plain": [
       "0    (12.618, 22.166]\n",
       "1     (3.022, 12.618]\n",
       "2    (12.618, 22.166]\n",
       "3    (22.166, 31.714]\n",
       "4    (22.166, 31.714]\n",
       "Name: total_bill, dtype: category\n",
       "Categories (5, interval[float64, right]): [(3.022, 12.618] < (12.618, 22.166] < (22.166, 31.714] < (31.714, 41.262] < (41.262, 50.81]]"
      ]
     },
     "execution_count": 29,
     "metadata": {},
     "output_type": "execute_result"
    }
   ],
   "source": [
    "pd.cut(tip['total_bill'],bins=5).head()"
   ]
  },
  {
   "cell_type": "code",
   "execution_count": 35,
   "id": "3810d118",
   "metadata": {},
   "outputs": [
    {
     "data": {
      "application/javascript": [
       "\n",
       "        if (window._pyforest_update_imports_cell) { window._pyforest_update_imports_cell('import pandas as pd\\nimport glob'); }\n",
       "    "
      ],
      "text/plain": [
       "<IPython.core.display.Javascript object>"
      ]
     },
     "metadata": {},
     "output_type": "display_data"
    },
    {
     "data": {
      "text/plain": [
       "CategoricalDtype(categories=[(0.0, 10.0], (10.0, 20.0], (20.0, 30.0], (30.0, 40.0], (40.0, inf]], ordered=True)"
      ]
     },
     "execution_count": 35,
     "metadata": {},
     "output_type": "execute_result"
    }
   ],
   "source": [
    "pd.cut(tip['total_bill'],bins=[0,10,20,30,40,float('inf')]).dtypes"
   ]
  },
  {
   "cell_type": "code",
   "execution_count": 22,
   "id": "ca842758",
   "metadata": {},
   "outputs": [
    {
     "data": {
      "text/plain": [
       "<AxesSubplot:>"
      ]
     },
     "execution_count": 22,
     "metadata": {},
     "output_type": "execute_result"
    },
    {
     "data": {
      "image/png": "[encoded data removed]",
      "text/plain": [
       "<Figure size 640x480 with 1 Axes>"
      ]
     },
     "metadata": {},
     "output_type": "display_data"
    }
   ],
   "source": [
    "tip['total_bill'].hist()"
   ]
  },
  {
   "cell_type": "code",
   "execution_count": null,
   "id": "50683a41",
   "metadata": {},
   "outputs": [],
   "source": []
  },
  {
   "cell_type": "code",
   "execution_count": null,
   "id": "17e99382",
   "metadata": {},
   "outputs": [],
   "source": []
  }
 ],
 "metadata": {
  "kernelspec": {
   "display_name": "Python 3 (ipykernel)",
   "language": "python",
   "name": "python3"
  },
  "language_info": {
   "codemirror_mode": {
    "name": "ipython",
    "version": 3
   },
   "file_extension": ".py",
   "mimetype": "text/x-python",
   "name": "python",
   "nbconvert_exporter": "python",
   "pygments_lexer": "ipython3",
   "version": "3.9.13"
  }
 },
 "nbformat": 4,
 "nbformat_minor": 5
}
